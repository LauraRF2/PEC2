{
 "cells": [
  {
   "cell_type": "code",
   "execution_count": null,
   "id": "1d76d6f9",
   "metadata": {},
   "outputs": [],
   "source": [
    "import pandas as pd\n",
    "import numpy as np\n",
    "import matplotlib.pyplot as plt\n",
    "import seaborn as sns\n",
    "\n",
    "\n",
    "#Upload CSV file\n",
    "data = pd.read_csv(\"Data/pd_speech_features.csv\")"
   ]
  },
  {
   "cell_type": "code",
   "execution_count": null,
   "id": "f757a1a9",
   "metadata": {},
   "outputs": [],
   "source": [
    "print(data.iloc[:,:10].head())"
   ]
  },
  {
   "cell_type": "code",
   "execution_count": null,
   "id": "d755d051",
   "metadata": {},
   "outputs": [],
   "source": [
    "# General information of the dataset\n",
    "print(data.info())"
   ]
  },
  {
   "cell_type": "code",
   "execution_count": null,
   "id": "b339e49e",
   "metadata": {},
   "outputs": [],
   "source": [
    "# Total number of null data\n",
    "print(data.isnull().sum().sum())"
   ]
  },
  {
   "cell_type": "code",
   "execution_count": null,
   "id": "3adb2631",
   "metadata": {},
   "outputs": [],
   "source": [
    "# Plot variables\n",
    "def plot_variables(df,n_rows, n_cols):\n",
    "    classe = df[\"class\"].astype(\"category\")\n",
    "    \n",
    "    #Grid for plots\n",
    "    n_rows=76\n",
    "    n_cols=10\n",
    "    fig, axes = plt.subplots(n_rows, n_cols, figsize=(50,400))\n",
    "    axes = axes.flatten()\n",
    "    \n",
    "    #Create plots\n",
    "    for i,column in enumerate(df.columns[2:754]):\n",
    "        ax=axes[i]\n",
    "        sns.boxplot(x=classe, y=df[column], ax=ax)\n",
    "        plt.xlabel(\"Class\")\n",
    "        plt.ylabel(column)\n",
    "    \n",
    "    plt.tight_layout()\n",
    "    plt.show()\n"
   ]
  },
  {
   "cell_type": "code",
   "execution_count": null,
   "id": "adf29bd8",
   "metadata": {},
   "outputs": [],
   "source": [
    "plot_variables(data, 76, 10)"
   ]
  },
  {
   "cell_type": "code",
   "execution_count": null,
   "id": "4dfb80df",
   "metadata": {},
   "outputs": [],
   "source": [
    "# Descriptive statistics of the first 15 columns and the last one\n",
    "print(data.iloc[:,list(range(10))+[-1]].describe())"
   ]
  },
  {
   "cell_type": "code",
   "execution_count": null,
   "id": "3d6818d5",
   "metadata": {},
   "outputs": [],
   "source": [
    "# Descriptive gender and class  --> Només contempla observacions; per nombre pacients (:3)\n",
    "sns.countplot(x=data[\"class\"], hue=data[\"gender\"])\n",
    "plt.show()"
   ]
  },
  {
   "cell_type": "markdown",
   "id": "9d460ed2",
   "metadata": {},
   "source": [
    "For the first descriptibes obtained:\n",
    "Dataset has: 756 rows, 755 columns (749 float numbers, 64 integer)\n",
    "Fisrt column is patient ID, second column is gender (integer that has to be replaced for a categorical variable) last column is class (also represented as integer).\n",
    "\n",
    "For the gender variable there is a balanced data for men and women. \n",
    "For the class variable there is no balance data: Its about 3/4 of data for Parkinson patients and 1/4 of data for healthy subjects.\n",
    "\n",
    "There is no null data. \n",
    "Data requires normalization: variable PPE min value is arround 0.045 and it's maximum is arround 0.9 with a mean at 0.74. Variable numPulses has a min value of 2 and a max value of 907 with a mean of arround 324. "
   ]
  },
  {
   "cell_type": "markdown",
   "id": "0be951de",
   "metadata": {},
   "source": [
    "## Standarization\n",
    "\n",
    "For standarization, NOT use MinMaxScaler. As data shown previously there are a lot of outliers that may affect normalization. \n",
    "Insted can use Robust Scaler normalization since is not sensitive to outliers and there is no need to assume Gaussian distribution.\n"
   ]
  },
  {
   "cell_type": "code",
   "execution_count": null,
   "id": "00cef1a3",
   "metadata": {},
   "outputs": [],
   "source": [
    "from sklearn.preprocessing import RobustScaler\n",
    "\n",
    "# RobustScaler normalization\n",
    "normal_data = RobustScaler().fit_transform(data.iloc[:,2:754])\n",
    "norm_df =pd.DataFrame(normal_data, columns=data.columns[2:754])\n",
    "norm_data = pd.concat([data.iloc[:,:2], norm_df, data.iloc[:,754]], axis=1)\n",
    "norm_data"
   ]
  },
  {
   "cell_type": "code",
   "execution_count": null,
   "id": "19ef69c0",
   "metadata": {},
   "outputs": [],
   "source": [
    "# Create new file with normalization data\n",
    "# norm_data.to_csv(\"Data/norm_data.csv\", index=False)"
   ]
  },
  {
   "cell_type": "code",
   "execution_count": null,
   "id": "14ac89ec",
   "metadata": {},
   "outputs": [],
   "source": [
    "plot_variables(norm_data, 10,10)"
   ]
  },
  {
   "cell_type": "code",
   "execution_count": null,
   "id": "f16b42cb",
   "metadata": {},
   "outputs": [],
   "source": [
    "# List of variables according to group\n",
    "Gender_Features = norm_data.columns[1]\n",
    "Baseline_Features = norm_data.columns[2:23].tolist()\n",
    "Time_Freq_Features = norm_data.columns[23:34].tolist()\n",
    "Vocal_Fold_Features = norm_data.columns[34:56].tolist()\n",
    "MFCC_Features = norm_data.columns[56:140].tolist()\n",
    "WT_FT_Features = norm_data.columns[140:322].tolist()\n",
    "TQWT_Features = norm_data.columns[322:754].tolist()\n",
    "Class = norm_data.columns[754]"
   ]
  },
  {
   "cell_type": "code",
   "execution_count": null,
   "id": "e2daebac",
   "metadata": {},
   "outputs": [],
   "source": [
    "# Correlation of different Features groups\n",
    "\n",
    "feature_groups = [Baseline_Features, Time_Freq_Features, \n",
    "                  Vocal_Fold_Features, MFCC_Features]\n",
    "feature_names = [\"Baseline_Features\", \"Time_Freq_Features\", \n",
    "                 \"Vocal_Fold_Features\", \"MFCC_Features\"]\n",
    "for i,features in enumerate(feature_groups):\n",
    "    selected_features = norm_data[features]\n",
    "    correlation_matrix = selected_features.corr()\n",
    "    plt.figure(figsize=(8,8))\n",
    "    sns.heatmap(correlation_matrix, cmap=\"coolwarm\", square=True)\n",
    "    plt.title(f\"Heatmap of {feature_names[i]}\")\n",
    "    plt.show()"
   ]
  },
  {
   "cell_type": "markdown",
   "id": "5da6a92a",
   "metadata": {},
   "source": [
    "Some of the variables in each group of variables present high correlation. At some point could be interesting to perform feature selection or extraction of characteristics to reduce dimensionality and redundancy."
   ]
  }
 ],
 "metadata": {
  "kernelspec": {
   "display_name": "Python 3 (ipykernel)",
   "language": "python",
   "name": "python3"
  },
  "language_info": {
   "codemirror_mode": {
    "name": "ipython",
    "version": 3
   },
   "file_extension": ".py",
   "mimetype": "text/x-python",
   "name": "python",
   "nbconvert_exporter": "python",
   "pygments_lexer": "ipython3",
   "version": "3.9.15"
  }
 },
 "nbformat": 4,
 "nbformat_minor": 5
}
